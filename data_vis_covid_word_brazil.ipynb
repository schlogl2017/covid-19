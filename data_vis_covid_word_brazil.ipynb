{
 "cells": [
  {
   "cell_type": "code",
   "execution_count": null,
   "id": "super-reducing",
   "metadata": {},
   "outputs": [],
   "source": []
  },
  {
   "cell_type": "code",
   "execution_count": null,
   "id": "binary-lecture",
   "metadata": {},
   "outputs": [],
   "source": [
    "# fig = px.choropleth(world_covid_grouped, \n",
    "#                     locations=\"country\", \n",
    "#                     color=np.log(world_covid_grouped[\"confirmed\"]),\n",
    "#                     locationmode='country names', \n",
    "#                     hover_name=\"country\",\n",
    "#                     animation_frame=world_covid_grouped[\"date\"].dt.strftime('%Y-%m-%d'),\n",
    "#                     title='<b>Cases over time<b> (log scale)',\n",
    "#                     color_continuous_scale='matter')\n",
    "# fig.update(layout_coloraxis_showscale=True)\n",
    "# fig.write_html(f'Graficos/World_covid_animation_confirmed_{yesterday}.html', auto_open=False)\n",
    "# fig.show()"
   ]
  },
  {
   "cell_type": "code",
   "execution_count": null,
   "id": "helpful-retention",
   "metadata": {},
   "outputs": [],
   "source": [
    "# def plot_map(df, col_value,col_locations, date, pallet, fig_name, is_save=False):\n",
    "#     df = df[df[col_value] > 0]\n",
    "#     fig = px.choropleth(df, \n",
    "#                         locations=col_locations, \n",
    "#                         locationmode='country names',\n",
    "#                         color=col_value, \n",
    "#                         hover_name=col_locations, \n",
    "#                         title=f'<b>Covid country wise {col_value} cases ( {date })<b>', \n",
    "#                         hover_data=[col_value], \n",
    "#                         color_continuous_scale=pallet,\n",
    "#                         fitbounds='geojson',\n",
    "#                         projection='natural earth',\n",
    "#                        )\n",
    "#     fig.write_html(f'{fig_name}.html', auto_open=False)\n",
    "#     fig.show()"
   ]
  },
  {
   "cell_type": "code",
   "execution_count": null,
   "id": "separated-boston",
   "metadata": {},
   "outputs": [],
   "source": [
    "# pal = px.colors.sequential.Viridis\n",
    "# fig_name = f'Graficos/world_cases_static_{yesterday}'\n",
    "# plot_map(world_covid_grouped, 'deaths', 'country', yesterday, pal, fig_name, True)"
   ]
  },
  {
   "cell_type": "code",
   "execution_count": null,
   "id": "touched-handbook",
   "metadata": {},
   "outputs": [],
   "source": [
    "# def plot_area(df, col_x, col_y, col_color, title, date, path, is_save=False):\n",
    "#     fig = go.Figure()\n",
    "#     fig = px.area(df, \n",
    "#                   x=col_x, \n",
    "#                   y=col_y, \n",
    "#                   color=col_color, \n",
    "#                   height=600, \n",
    "#                   width=700,\n",
    "#                   title=f'<b>{title} ({date})<b>', \n",
    "#                   color_discrete_sequence = [rec, dth, act])\n",
    "#     if is_save:\n",
    "#         fig.write_html(f'{path}/{title}_{date}.html', auto_open=False)\n",
    "#     fig.show()"
   ]
  },
  {
   "cell_type": "code",
   "execution_count": null,
   "id": "overall-chicken",
   "metadata": {},
   "outputs": [],
   "source": [
    "# plot_area(word_cases, \n",
    "#           'date', \n",
    "#           'counts', \n",
    "#           'cases', \n",
    "#           'World covid-19 cases', \n",
    "#           date=yesterday, \n",
    "#           path=\"Graficos\",\n",
    "#           is_save=True)"
   ]
  },
  {
   "cell_type": "code",
   "execution_count": null,
   "id": "chief-opening",
   "metadata": {},
   "outputs": [],
   "source": []
  },
  {
   "cell_type": "code",
   "execution_count": null,
   "id": "accredited-sheep",
   "metadata": {},
   "outputs": [],
   "source": []
  },
  {
   "cell_type": "code",
   "execution_count": null,
   "id": "precise-captain",
   "metadata": {},
   "outputs": [],
   "source": []
  },
  {
   "cell_type": "code",
   "execution_count": null,
   "id": "significant-guide",
   "metadata": {},
   "outputs": [],
   "source": []
  },
  {
   "cell_type": "code",
   "execution_count": null,
   "id": "reflected-trinidad",
   "metadata": {},
   "outputs": [],
   "source": []
  },
  {
   "cell_type": "code",
   "execution_count": null,
   "id": "retained-victoria",
   "metadata": {},
   "outputs": [],
   "source": []
  },
  {
   "cell_type": "code",
   "execution_count": null,
   "id": "selected-chair",
   "metadata": {},
   "outputs": [],
   "source": []
  },
  {
   "cell_type": "code",
   "execution_count": null,
   "id": "marine-printing",
   "metadata": {},
   "outputs": [],
   "source": []
  },
  {
   "cell_type": "code",
   "execution_count": null,
   "id": "dense-resource",
   "metadata": {},
   "outputs": [],
   "source": []
  },
  {
   "cell_type": "code",
   "execution_count": null,
   "id": "stuffed-stations",
   "metadata": {},
   "outputs": [],
   "source": []
  },
  {
   "cell_type": "code",
   "execution_count": null,
   "id": "varying-cliff",
   "metadata": {},
   "outputs": [],
   "source": []
  },
  {
   "cell_type": "code",
   "execution_count": null,
   "id": "possible-palace",
   "metadata": {},
   "outputs": [],
   "source": []
  },
  {
   "cell_type": "code",
   "execution_count": null,
   "id": "representative-edinburgh",
   "metadata": {},
   "outputs": [],
   "source": []
  },
  {
   "cell_type": "code",
   "execution_count": null,
   "id": "monthly-jimmy",
   "metadata": {},
   "outputs": [],
   "source": []
  },
  {
   "cell_type": "code",
   "execution_count": null,
   "id": "dressed-boards",
   "metadata": {},
   "outputs": [],
   "source": []
  },
  {
   "cell_type": "code",
   "execution_count": null,
   "id": "suspected-family",
   "metadata": {},
   "outputs": [],
   "source": []
  },
  {
   "cell_type": "code",
   "execution_count": null,
   "id": "sought-hydrogen",
   "metadata": {},
   "outputs": [],
   "source": []
  },
  {
   "cell_type": "code",
   "execution_count": null,
   "id": "similar-arthritis",
   "metadata": {},
   "outputs": [],
   "source": []
  },
  {
   "cell_type": "code",
   "execution_count": null,
   "id": "psychological-covering",
   "metadata": {},
   "outputs": [],
   "source": []
  },
  {
   "cell_type": "code",
   "execution_count": null,
   "id": "spoken-somewhere",
   "metadata": {},
   "outputs": [],
   "source": []
  }
 ],
 "metadata": {
  "kernelspec": {
   "display_name": "Python 3",
   "language": "python",
   "name": "python3"
  },
  "language_info": {
   "codemirror_mode": {
    "name": "ipython",
    "version": 3
   },
   "file_extension": ".py",
   "mimetype": "text/x-python",
   "name": "python",
   "nbconvert_exporter": "python",
   "pygments_lexer": "ipython3",
   "version": "3.8.2"
  }
 },
 "nbformat": 4,
 "nbformat_minor": 5
}
